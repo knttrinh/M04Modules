{
 "cells": [
  {
   "cell_type": "markdown",
   "id": "afde0df9-63e0-4cb6-a852-d1b5cba4f9e5",
   "metadata": {},
   "source": [
    "## Kizzie Trinh ##\n",
    "## M04 Assignment Module and Databases##\n",
    "## Chapter 11 ##"
   ]
  },
  {
   "cell_type": "markdown",
   "id": "d1f1a14f-eb71-4127-b792-cf1e10a8c3eb",
   "metadata": {},
   "source": [
    "## Section 11.1 ##\n",
    "## Create a file called zoo.py. In it, define a function called hours() that prints the string 'Open 9-5 daily'. Then, use the interactive interpreter to import the zoo module and call its hours() function.##"
   ]
  },
  {
   "cell_type": "code",
   "execution_count": null,
   "id": "44ab9c23-bd2f-4874-86e4-e643a9930651",
   "metadata": {},
   "outputs": [],
   "source": [
    "def hour()\n",
    "    print(\"Open 9-5 daily\")"
   ]
  },
  {
   "cell_type": "markdown",
   "id": "6ccc3078-6b09-414f-9bea-a7d7c8bc72b4",
   "metadata": {},
   "source": [
    "## Section 11.2 ##\n",
    "## 11.2 In the interactive interpreter, import the zoo module as menagerie and call its hours() function.##"
   ]
  },
  {
   "cell_type": "code",
   "execution_count": null,
   "id": "11765c62-9ec0-4ee9-84c2-233d49a00e64",
   "metadata": {},
   "outputs": [],
   "source": [
    "import Zoo as menageries\n",
    "menagerie.hour()"
   ]
  }
 ],
 "metadata": {
  "kernelspec": {
   "display_name": "Python 3 (ipykernel)",
   "language": "python",
   "name": "python3"
  },
  "language_info": {
   "codemirror_mode": {
    "name": "ipython",
    "version": 3
   },
   "file_extension": ".py",
   "mimetype": "text/x-python",
   "name": "python",
   "nbconvert_exporter": "python",
   "pygments_lexer": "ipython3",
   "version": "3.11.7"
  }
 },
 "nbformat": 4,
 "nbformat_minor": 5
}
